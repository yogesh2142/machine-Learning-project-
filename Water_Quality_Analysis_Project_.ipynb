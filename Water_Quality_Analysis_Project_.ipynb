{
  "nbformat": 4,
  "nbformat_minor": 0,
  "metadata": {
    "colab": {
      "private_outputs": true,
      "provenance": [],
      "authorship_tag": "ABX9TyPgvwRSMDo1zuWyThkKsSIB",
      "include_colab_link": true
    },
    "kernelspec": {
      "name": "python3",
      "display_name": "Python 3"
    },
    "language_info": {
      "name": "python"
    }
  },
  "cells": [
    {
      "cell_type": "markdown",
      "metadata": {
        "id": "view-in-github",
        "colab_type": "text"
      },
      "source": [
        "<a href=\"https://colab.research.google.com/github/yogesh2142/machine-Learning-project-/blob/main/Water_Quality_Analysis_Project_.ipynb\" target=\"_parent\"><img src=\"https://colab.research.google.com/assets/colab-badge.svg\" alt=\"Open In Colab\"/></a>"
      ]
    },
    {
      "cell_type": "code",
      "execution_count": null,
      "metadata": {
        "id": "dkI4CMQ-0SvV"
      },
      "outputs": [],
      "source": [
        "from google.colab import files\n",
        "uploaded = files.upload()"
      ]
    },
    {
      "cell_type": "code",
      "source": [
        "import matplotlib.pyplot as plt \n",
        "import pandas as pd\n",
        "import seaborn as sns\n",
        "import numpy as np\n",
        "\n",
        "data = pd.read_csv(\"train_dataset1.csv\")\n",
        "data.head\n"
      ],
      "metadata": {
        "id": "p9Vzn8vD0hb6"
      },
      "execution_count": null,
      "outputs": []
    },
    {
      "cell_type": "code",
      "source": [
        "data = data.dropna()\n",
        "data.isnull().sum()"
      ],
      "metadata": {
        "id": "yI1kDCkp0iah"
      },
      "execution_count": null,
      "outputs": []
    },
    {
      "cell_type": "code",
      "source": [
        "plt.figure(figsize=(10, 5))\n",
        "sns.countplot(data.Potability)\n",
        "plt.title(\"Distribution of Unsafe and Safe Water\")\n",
        "plt.show()"
      ],
      "metadata": {
        "id": "pj2bi5Tl0mTP"
      },
      "execution_count": null,
      "outputs": []
    },
    {
      "cell_type": "code",
      "source": [
        "import plotly.express as px\n",
        "data = data\n",
        "figure = px.histogram(data, x = \"ph\", \n",
        "                      color = \"Potability\", \n",
        "                      title= \"Factors Affecting Water Quality: PH\")\n",
        "figure.show()"
      ],
      "metadata": {
        "id": "HQyQbAxm0rwd"
      },
      "execution_count": null,
      "outputs": []
    },
    {
      "cell_type": "code",
      "source": [
        "figure = px.histogram(data, x = \"Hardness\", \n",
        "                      color = \"Potability\", \n",
        "                      title= \"Factors Affecting Water Quality: Hardness\")\n",
        "figure.show()"
      ],
      "metadata": {
        "id": "-4ZjOAfh0rdA"
      },
      "execution_count": null,
      "outputs": []
    },
    {
      "cell_type": "code",
      "source": [
        "figure = px.histogram(data, x = \"Solids\", \n",
        "                      color = \"Potability\", \n",
        "                      title= \"Factors Affecting Water Quality: Solids\")\n",
        "figure.show()"
      ],
      "metadata": {
        "id": "gupOn8Fd01YM"
      },
      "execution_count": null,
      "outputs": []
    },
    {
      "cell_type": "code",
      "source": [
        "figure = px.histogram(data, x = \"Organic_carbon\", \n",
        "                      color = \"Potability\", \n",
        "                      title= \"Factors Affecting Water Quality: Organic Carbon\")\n",
        "figure.show()"
      ],
      "metadata": {
        "id": "4eFV2aE-02Du"
      },
      "execution_count": null,
      "outputs": []
    },
    {
      "cell_type": "code",
      "source": [
        "figure = px.histogram(data, x = \"Turbidity\", \n",
        "                      color = \"Potability\", \n",
        "                      title= \"Factors Affecting Water Quality: Turbidity\")\n",
        "figure.show()"
      ],
      "metadata": {
        "id": "XgFZPE2302d0"
      },
      "execution_count": null,
      "outputs": []
    },
    {
      "cell_type": "markdown",
      "source": [
        "Water Quality Prediction Model using Python\n",
        "For this task, I will be using the PyCaret library in Python. If you have never used this library before, you can easily install it on your system using the pip command: -  pip install pycaret\n",
        "\n",
        "Before training a machine learning model, let’s have a look at the correlation of all the features with respect to the Potability column in the dataset:"
      ],
      "metadata": {
        "id": "3ha0W5eb1mUK"
      }
    },
    {
      "cell_type": "code",
      "source": [
        "correlation = data.corr()\n",
        "correlation[\"ph\"].sort_values(ascending=False)"
      ],
      "metadata": {
        "id": "SaqEO2Op1bwu"
      },
      "execution_count": null,
      "outputs": []
    },
    {
      "cell_type": "code",
      "source": [
        "from pycaret.classification import *\n",
        "clf = setup(data, target = \"Potability\", silent = True, session_id = 786)\n",
        "compare_models()"
      ],
      "metadata": {
        "id": "HVD-pAuK2VzH"
      },
      "execution_count": null,
      "outputs": []
    },
    {
      "cell_type": "markdown",
      "source": [
        "The above results are looking satisfactory. I hope you liked this Machine Learning project on Water Quality Analysis using Python."
      ],
      "metadata": {
        "id": "xI6ILnEG4yYG"
      }
    }
  ]
}