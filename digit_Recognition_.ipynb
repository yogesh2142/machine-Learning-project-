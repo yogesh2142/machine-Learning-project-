{
  "nbformat": 4,
  "nbformat_minor": 0,
  "metadata": {
    "colab": {
      "private_outputs": true,
      "provenance": [],
      "authorship_tag": "ABX9TyMh0zsvtRqT2ENL9AmdzbGw",
      "include_colab_link": true
    },
    "kernelspec": {
      "name": "python3",
      "display_name": "Python 3"
    },
    "language_info": {
      "name": "python"
    }
  },
  "cells": [
    {
      "cell_type": "markdown",
      "metadata": {
        "id": "view-in-github",
        "colab_type": "text"
      },
      "source": [
        "<a href=\"https://colab.research.google.com/github/yogesh2142/machine-Learning-project-/blob/main/digit_Recognition_.ipynb\" target=\"_parent\"><img src=\"https://colab.research.google.com/assets/colab-badge.svg\" alt=\"Open In Colab\"/></a>"
      ]
    },
    {
      "cell_type": "code",
      "execution_count": null,
      "metadata": {
        "id": "VJ9f6EsESyCF"
      },
      "outputs": [],
      "source": [
        "from keras.datasets import mnist\n",
        "(xtrain,ytrain),(xtest,ytest)= mnist.load_data()\n",
        "index=777\n",
        "import matplotlib.pyplot as plt\n",
        "plt.imshow(xtrain[index],cmap='Greys')"
      ]
    },
    {
      "cell_type": "code",
      "source": [
        "ytrain[index]\n",
        "xtrain[index].shape"
      ],
      "metadata": {
        "id": "hxQQP-TiTMai"
      },
      "execution_count": null,
      "outputs": []
    },
    {
      "cell_type": "code",
      "source": [
        "from keras.datasets import mnist\n",
        "from keras.layers import Conv2D,MaxPooling2D,Dropout,Flatten,Dense\n",
        "from keras.models import Sequential\n",
        "#xtrain.shape:- used for check size of xtrain\n",
        "xtrain1=xtrain.reshape(xtrain.shape[0],28,28,1)\n",
        "xtest1=xtest.reshape(xtest.shape[0],28,28,1)\n",
        "model=Sequential()\n",
        "model.add(Conv2D(28,kernel_size=(3,3),input_shape=[28,28,1]))\n",
        "model.add(MaxPooling2D(pool_size=(2,2)))\n",
        "model.add(Flatten())\n",
        "model.add(Dense(128,activation='relu'))\n",
        "model.add(Dropout(0.2))\n",
        "model.add(Dense(10,activation='Softmax'))\n",
        "model.compile(optimizer='adam',loss='sparse_categorical_crossentropy',metrics=['accuracy'])\n",
        "model.fit(xtrain,ytrain,epochs=10)"
      ],
      "metadata": {
        "id": "GZJnaP1GTY3P"
      },
      "execution_count": null,
      "outputs": []
    },
    {
      "cell_type": "code",
      "source": [
        "a=model.predict(xtest1)\n",
        "a.shape"
      ],
      "metadata": {
        "id": "jcV4c3WRTiGN"
      },
      "execution_count": null,
      "outputs": []
    },
    {
      "cell_type": "code",
      "source": [
        "import numpy as np\n",
        "b=a[5]\n",
        "j=np.argmax(b)\n",
        "b=[0,0,0,0,0,0,0,0,0,0]\n",
        "b[j]=1\n",
        "b"
      ],
      "metadata": {
        "id": "DhfXINQgTpol"
      },
      "execution_count": null,
      "outputs": []
    },
    {
      "cell_type": "code",
      "source": [
        "import matplotlib.pyplot as plt\n",
        "plt.imshow(xtest[5])"
      ],
      "metadata": {
        "id": "P2SaiAlCTtBb"
      },
      "execution_count": null,
      "outputs": []
    },
    {
      "cell_type": "code",
      "source": [],
      "metadata": {
        "id": "VhCor9FDTxiV"
      },
      "execution_count": null,
      "outputs": []
    }
  ]
}