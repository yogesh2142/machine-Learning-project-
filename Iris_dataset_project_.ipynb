{
  "nbformat": 4,
  "nbformat_minor": 0,
  "metadata": {
    "colab": {
      "private_outputs": true,
      "provenance": [],
      "authorship_tag": "ABX9TyOzhMVGzhrp0dBytz0fSWDV",
      "include_colab_link": true
    },
    "kernelspec": {
      "name": "python3",
      "display_name": "Python 3"
    },
    "language_info": {
      "name": "python"
    }
  },
  "cells": [
    {
      "cell_type": "markdown",
      "metadata": {
        "id": "view-in-github",
        "colab_type": "text"
      },
      "source": [
        "<a href=\"https://colab.research.google.com/github/yogesh2142/machine-Learning-project-/blob/main/Iris_dataset_project_.ipynb\" target=\"_parent\"><img src=\"https://colab.research.google.com/assets/colab-badge.svg\" alt=\"Open In Colab\"/></a>"
      ]
    },
    {
      "cell_type": "code",
      "execution_count": null,
      "metadata": {
        "id": "ziZVxCYac2uP"
      },
      "outputs": [],
      "source": [
        "from sklearn.datasets import load_iris\n",
        "li = load_iris()\n",
        "x = li.data\n",
        "y = li.target\n",
        "from sklearn.preprocessing import MinMaxScaler\n",
        "scale = MinMaxScaler()\n",
        "x1 = scale.fit_transform(x)"
      ]
    },
    {
      "cell_type": "code",
      "source": [
        "from sklearn.preprocessing import OneHotEncoder\n",
        "import numpy as np\n",
        "onc = OneHotEncoder()\n",
        "dt = onc.fit_transform(y[:,np.newaxis]).toarray()\n",
        "y2 = dt.astype('int')"
      ],
      "metadata": {
        "id": "K8o7cfZpdW7N"
      },
      "execution_count": null,
      "outputs": []
    },
    {
      "cell_type": "code",
      "source": [
        "from sklearn.model_selection import train_test_split\n",
        "xtrain,xtest,ytrain,ytest = train_test_split(x1,y2,test_size=0.2)"
      ],
      "metadata": {
        "id": "hu9ERKAoddeq"
      },
      "execution_count": null,
      "outputs": []
    },
    {
      "cell_type": "code",
      "source": [
        "from keras.models import Sequential\n",
        "from keras.layers import Dense\n",
        "model = Sequential()\n",
        "model.add(Dense(12,activation='relu',input_dim=4)) # hidden layer input dimenstion \n",
        "model.add(Dense(12,activation='relu')) # hidden layer \n",
        "model.add(Dense(3,activation ='Softmax')) # hidden layer \n",
        "model.compile(optimizer='adam', loss='categorical_crossentropy')\n",
        "model.fit(xtrain,ytrain,epochs=100)"
      ],
      "metadata": {
        "id": "BdZ7sirudipI"
      },
      "execution_count": null,
      "outputs": []
    },
    {
      "cell_type": "code",
      "source": [
        "ypred = model.predict(xtest)"
      ],
      "metadata": {
        "id": "8OtsIRpwgtNU"
      },
      "execution_count": null,
      "outputs": []
    },
    {
      "cell_type": "code",
      "source": [
        "import numpy as np\n",
        "for i in range(len(ypred)):\n",
        "  j = np.argmax(ypred[i,:])\n",
        "  ypred[i,0]=0\n",
        "  ypred[i,1]=0\n",
        "  ypred[i,2]=0\n",
        "  ypred[i,j]=1"
      ],
      "metadata": {
        "id": "5I0yuMibd1Rq"
      },
      "execution_count": null,
      "outputs": []
    },
    {
      "cell_type": "code",
      "source": [
        "ypred.astype('int')"
      ],
      "metadata": {
        "id": "_TMiSdV_d6jO"
      },
      "execution_count": null,
      "outputs": []
    },
    {
      "cell_type": "code",
      "source": [
        "ypred = model.predict(xtest)\n",
        "ypred"
      ],
      "metadata": {
        "id": "Thmc4qTad-u5"
      },
      "execution_count": null,
      "outputs": []
    }
  ]
}