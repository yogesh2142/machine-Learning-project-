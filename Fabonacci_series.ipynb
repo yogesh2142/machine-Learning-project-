{
  "nbformat": 4,
  "nbformat_minor": 0,
  "metadata": {
    "colab": {
      "private_outputs": true,
      "provenance": [],
      "authorship_tag": "ABX9TyNmLQR0OSFx6trq4hoUOSrg",
      "include_colab_link": true
    },
    "kernelspec": {
      "name": "python3",
      "display_name": "Python 3"
    },
    "language_info": {
      "name": "python"
    }
  },
  "cells": [
    {
      "cell_type": "markdown",
      "metadata": {
        "id": "view-in-github",
        "colab_type": "text"
      },
      "source": [
        "<a href=\"https://colab.research.google.com/github/yogesh2142/machine-Learning-project-/blob/main/Fabonacci_series.ipynb\" target=\"_parent\"><img src=\"https://colab.research.google.com/assets/colab-badge.svg\" alt=\"Open In Colab\"/></a>"
      ]
    },
    {
      "cell_type": "code",
      "execution_count": null,
      "metadata": {
        "id": "0vJbQ0KwthdF"
      },
      "outputs": [],
      "source": [
        "def fibo(n):\n",
        "  if n <= 1:\n",
        "    return n\n",
        "  else:\n",
        "    return fibo(n-1) + fibo(n-2)\n",
        "\n",
        "n = int(input(\"enter the number:- \"))\n",
        "if n <= 0:\n",
        "  print(\"enter a positive number\")\n",
        "else:\n",
        "  print(\"Fibonacci series\")\n",
        "  for i in range (n):\n",
        "    print(fibo(i))\n"
      ]
    },
    {
      "cell_type": "code",
      "source": [],
      "metadata": {
        "id": "kdJtwdZhD30k"
      },
      "execution_count": null,
      "outputs": []
    }
  ]
}