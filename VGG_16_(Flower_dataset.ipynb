{
  "nbformat": 4,
  "nbformat_minor": 0,
  "metadata": {
    "colab": {
      "private_outputs": true,
      "provenance": [],
      "authorship_tag": "ABX9TyNch55txTEmeIw0fjM14gVz",
      "include_colab_link": true
    },
    "kernelspec": {
      "name": "python3",
      "display_name": "Python 3"
    },
    "language_info": {
      "name": "python"
    }
  },
  "cells": [
    {
      "cell_type": "markdown",
      "metadata": {
        "id": "view-in-github",
        "colab_type": "text"
      },
      "source": [
        "<a href=\"https://colab.research.google.com/github/yogesh2142/machine-Learning-project-/blob/main/VGG_16_(Flower_dataset.ipynb\" target=\"_parent\"><img src=\"https://colab.research.google.com/assets/colab-badge.svg\" alt=\"Open In Colab\"/></a>"
      ]
    },
    {
      "cell_type": "code",
      "execution_count": null,
      "metadata": {
        "id": "YRDh8v2FUact"
      },
      "outputs": [],
      "source": [
        "base='/content/sample_data/flower'\n",
        "import os\n",
        "os.listdir\n",
        "folder=os.listdir(base)\n",
        "folder"
      ]
    },
    {
      "cell_type": "code",
      "source": [
        "import cv2 #open cv libray we can using it images operations\n",
        "x=[]\n",
        "y=[]\n",
        "for i in folder:\n",
        "  for j in os.listdir(base+'/'+i):\n",
        "    print(j)\n",
        "    a=j.split('.')\n",
        "    if a[1]=='jpg':\n",
        "      p=cv2.imread(base+'/'+i+'/'+j) #imread:- is used to convert 2d,3d image to 2d,3d matrix\n",
        "      r=cv2.resize(p,(224,224)) #resize():- a cv2 method, to change image dimension\n",
        "      x.append(r)\n",
        "      y.append(i)\n"
      ],
      "metadata": {
        "id": "K1AoJrEmXRgv"
      },
      "execution_count": null,
      "outputs": []
    },
    {
      "cell_type": "code",
      "source": [
        "y"
      ],
      "metadata": {
        "id": "_baLaDJiXR5c"
      },
      "execution_count": null,
      "outputs": []
    },
    {
      "cell_type": "code",
      "source": [
        "import numpy as np\n",
        "xarr=np.array(x)\n",
        "yarr=np.array(y)\n",
        "xarrr=xarr/255\n",
        "xarr.shape"
      ],
      "metadata": {
        "id": "dO8xOitjXSMV"
      },
      "execution_count": null,
      "outputs": []
    },
    {
      "cell_type": "code",
      "source": [
        "# convert y in numeric form\n",
        "for i in range(len(y)):\n",
        "  if y[i]=='rose':\n",
        "    y[i]=0\n",
        "  else:\n",
        "    y[i]=1\n",
        "y"
      ],
      "metadata": {
        "id": "pUknZMUrXS80"
      },
      "execution_count": null,
      "outputs": []
    },
    {
      "cell_type": "code",
      "source": [
        "from keras.applications.vgg16 import  VGG16\n",
        "v=VGG16(input_shape=[224,224,3],weights='imagenet',include_top=False) #include_top:- it means optput layer remove or not\n",
        "v.summary()"
      ],
      "metadata": {
        "id": "_dBUpZhQXSku"
      },
      "execution_count": null,
      "outputs": []
    },
    {
      "cell_type": "code",
      "source": [
        "v.trainable=False\n",
        "v.summary()"
      ],
      "metadata": {
        "id": "Px7bEg3RXrdt"
      },
      "execution_count": null,
      "outputs": []
    },
    {
      "cell_type": "code",
      "source": [
        "from keras.models import Sequential\n",
        "from keras.layers import Flatten\n",
        "from keras.layers import Dense\n",
        "model=Sequential()\n",
        "model.add(v)\n",
        "model.add(Flatten())\n",
        "model.add(Dense(1,activation='sigmoid'))\n",
        "model.summary()"
      ],
      "metadata": {
        "id": "47SumpSTX1E3"
      },
      "execution_count": null,
      "outputs": []
    },
    {
      "cell_type": "code",
      "source": [
        "model.compile(optimizer='Adam',\n",
        "              loss='binary_crossentropy',\n",
        "              metrics=['accuracy'])"
      ],
      "metadata": {
        "id": "C6kJW5epX4qF"
      },
      "execution_count": null,
      "outputs": []
    },
    {
      "cell_type": "code",
      "source": [
        "from keras.callbacks import EarlyStopping,ModelCheckpoint\n",
        "es=EarlyStopping(monitor='accuracy',min_delta=0,patience=3)\n",
        "mcp=ModelCheckpoint('mymodel.hdf5',save_best_only=True)"
      ],
      "metadata": {
        "id": "ocar3xDJX8AM"
      },
      "execution_count": null,
      "outputs": []
    },
    {
      "cell_type": "code",
      "source": [
        "model.fit(xarr,yarr,epochs=10,\n",
        "          validation_data=(xarr,yarr),\n",
        "          batch_size=2,\n",
        "          callbacks=[es,mcp])"
      ],
      "metadata": {
        "id": "zuWGiTiJX8Tb"
      },
      "execution_count": null,
      "outputs": []
    },
    {
      "cell_type": "code",
      "source": [
        "from keras.models import load_model\n",
        "my_model=load_model('mymodel.hdf5')"
      ],
      "metadata": {
        "id": "17KmVT7jYJtn"
      },
      "execution_count": null,
      "outputs": []
    },
    {
      "cell_type": "code",
      "source": [
        "import matplotlib.pyplot as plt\n",
        "plt.imshow(xarr[1])"
      ],
      "metadata": {
        "id": "8JOEm40cYJft"
      },
      "execution_count": null,
      "outputs": []
    },
    {
      "cell_type": "code",
      "source": [
        "my_model.predict(xarr)"
      ],
      "metadata": {
        "id": "z_7uLJrBYI9l"
      },
      "execution_count": null,
      "outputs": []
    },
    {
      "cell_type": "code",
      "source": [
        "a=model.predict(xarr)\n",
        "a.shape\n",
        "b=a[3]\n",
        "import numpy as np\n",
        "j=np.argmax(b)\n",
        "b=[0,0,0,0,0,0,0,0,0,0]\n",
        "b[j]=1\n",
        "b"
      ],
      "metadata": {
        "id": "hyRf0hYIYU_V"
      },
      "execution_count": null,
      "outputs": []
    },
    {
      "cell_type": "code",
      "source": [
        "import matplotlib.pyplot as plt\n",
        "for i in range(0,4):\n",
        "  plt.imshow(xarr[i])"
      ],
      "metadata": {
        "id": "cgvQ_-TaYUxm"
      },
      "execution_count": null,
      "outputs": []
    }
  ]
}