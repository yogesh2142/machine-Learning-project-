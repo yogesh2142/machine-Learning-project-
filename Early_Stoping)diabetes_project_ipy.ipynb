{
  "nbformat": 4,
  "nbformat_minor": 0,
  "metadata": {
    "colab": {
      "private_outputs": true,
      "provenance": [],
      "authorship_tag": "ABX9TyNu2ajZndcUMBY7r7jR1KDS",
      "include_colab_link": true
    },
    "kernelspec": {
      "name": "python3",
      "display_name": "Python 3"
    },
    "language_info": {
      "name": "python"
    }
  },
  "cells": [
    {
      "cell_type": "markdown",
      "metadata": {
        "id": "view-in-github",
        "colab_type": "text"
      },
      "source": [
        "<a href=\"https://colab.research.google.com/github/yogesh2142/machine-Learning-project-/blob/main/Early_Stoping)diabetes_project_ipy.ipynb\" target=\"_parent\"><img src=\"https://colab.research.google.com/assets/colab-badge.svg\" alt=\"Open In Colab\"/></a>"
      ]
    },
    {
      "cell_type": "code",
      "execution_count": null,
      "metadata": {
        "id": "FcwFgWpnTLwE"
      },
      "outputs": [],
      "source": [
        "from sklearn.datasets import load_diabetes\n",
        "ld = load_diabetes()\n",
        "ld"
      ]
    },
    {
      "cell_type": "code",
      "source": [
        "x = ld.data\n",
        "y = ld.target\n",
        "from sklearn.preprocessing import StandardScaler\n",
        "ss = StandardScaler()\n",
        "x1 = ss.fit_transform(x)\n",
        "from sklearn.model_selection import train_test_split\n",
        "xtrain,xtest,ytrain,ytest = train_test_split(x1,y,test_size=0.2)"
      ],
      "metadata": {
        "id": "9wWQovu5bluT"
      },
      "execution_count": null,
      "outputs": []
    },
    {
      "cell_type": "code",
      "source": [
        "from keras.models import Sequential\n",
        "from keras.layers import Dense\n",
        "from keras.callbacks import EarlyStopping\n",
        "es=EarlyStopping(monitor='val_loss', patience=3, mode='auto', min_delta=0.01)\n",
        "model = Sequential()\n",
        "ld = load_diabetes()\n",
        "x = ld.data\n",
        "y = ld.target\n",
        "scaller = StandardScaler()\n",
        "model.add(Dense(32, activation = 'relu', input_dim = 10))\n",
        "model.add(Dense(32, activation = 'relu'))\n",
        "model.add(Dense(5,activation = 'relu'))\n",
        "model.add(Dense(1,activation = 'relu'))\n",
        "model.compile(optimizer = 'adam', loss = 'mean_squared_error',)"
      ],
      "metadata": {
        "id": "XHjYqQqAbqcI"
      },
      "execution_count": null,
      "outputs": []
    },
    {
      "cell_type": "code",
      "source": [
        "hs = model.fit(xtrain, ytrain, validation_data = (xtest, ytest), epochs=5)"
      ],
      "metadata": {
        "id": "zDVhHlembvtQ"
      },
      "execution_count": null,
      "outputs": []
    },
    {
      "cell_type": "code",
      "source": [
        "hs.history.keys()"
      ],
      "metadata": {
        "id": "7Gkdr2v3b1O1"
      },
      "execution_count": null,
      "outputs": []
    },
    {
      "cell_type": "code",
      "source": [
        "import matplotlib.pyplot as plt\n",
        "plt.plot(hs.history['val_loss'])\n",
        "plt.plot(hs.history['loss'])"
      ],
      "metadata": {
        "id": "5UNKRHOyb_uU"
      },
      "execution_count": null,
      "outputs": []
    },
    {
      "cell_type": "code",
      "source": [
        "ypred = model.predict(xtest)"
      ],
      "metadata": {
        "id": "HZnJEXbscHOV"
      },
      "execution_count": null,
      "outputs": []
    },
    {
      "cell_type": "code",
      "source": [
        "from sklearn.metrics import r2_score\n",
        "r2_score(ytest,ypred)"
      ],
      "metadata": {
        "id": "V8VQ6lqEcKM7"
      },
      "execution_count": null,
      "outputs": []
    }
  ]
}