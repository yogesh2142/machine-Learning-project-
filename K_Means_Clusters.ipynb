{
  "nbformat": 4,
  "nbformat_minor": 0,
  "metadata": {
    "colab": {
      "private_outputs": true,
      "provenance": [],
      "authorship_tag": "ABX9TyMtOVFTnIOSXDJ31iYihIaH",
      "include_colab_link": true
    },
    "kernelspec": {
      "name": "python3",
      "display_name": "Python 3"
    },
    "language_info": {
      "name": "python"
    }
  },
  "cells": [
    {
      "cell_type": "markdown",
      "metadata": {
        "id": "view-in-github",
        "colab_type": "text"
      },
      "source": [
        "<a href=\"https://colab.research.google.com/github/yogesh2142/machine-Learning-project-/blob/main/K_Means_Clusters.ipynb\" target=\"_parent\"><img src=\"https://colab.research.google.com/assets/colab-badge.svg\" alt=\"Open In Colab\"/></a>"
      ]
    },
    {
      "cell_type": "code",
      "execution_count": null,
      "metadata": {
        "id": "2ck2i6xxY6Bj"
      },
      "outputs": [],
      "source": [
        "from sklearn.datasets import make_blobs\n",
        "x,y=make_blobs(n_samples=150,n_features=2,centers=3,cluster_std=0.9) # it retun x-features and y-no of clustures"
      ]
    },
    {
      "cell_type": "code",
      "source": [
        "import matplotlib.pyplot as plt\n",
        "plt.scatter(x[:,0],x[:,1])"
      ],
      "metadata": {
        "id": "OCD4uxxZZH5n"
      },
      "execution_count": null,
      "outputs": []
    },
    {
      "cell_type": "code",
      "source": [
        "from sklearn.cluster import KMeans\n",
        "wcss=[] # empty list , we append\n",
        "K=[1,2,3,4,5,6,7,8,9] \n",
        "for i in K:\n",
        "  Km=KMeans(n_clusters=i)\n",
        "  Km.fit(x)\n",
        "  wcss.append(Km.inertia_)"
      ],
      "metadata": {
        "id": "J3KzScRLZLJX"
      },
      "execution_count": null,
      "outputs": []
    },
    {
      "cell_type": "code",
      "source": [
        "plt.plot(K,wcss)"
      ],
      "metadata": {
        "id": "s0gJu5XuZSa7"
      },
      "execution_count": null,
      "outputs": []
    },
    {
      "cell_type": "code",
      "source": [
        "km=KMeans(n_clusters=3)\n",
        "ypred=km.fit_predict(x)\n",
        "ypred"
      ],
      "metadata": {
        "id": "vBvssSnFZWZb"
      },
      "execution_count": null,
      "outputs": []
    },
    {
      "cell_type": "code",
      "source": [
        "import matplotlib.pyplot as plt\n",
        "plt.scatter(x[:,0],x[:,1],c=ypred)"
      ],
      "metadata": {
        "id": "gca3u6lBZbaz"
      },
      "execution_count": null,
      "outputs": []
    }
  ]
}